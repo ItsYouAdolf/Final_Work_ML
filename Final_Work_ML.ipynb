{
 "cells": [
  {
   "cell_type": "code",
   "execution_count": 38,
   "id": "f62055e2-19b8-425a-8d2c-f557d25355bd",
   "metadata": {
    "tags": []
   },
   "outputs": [],
   "source": [
    "import pandas as pd\n",
    "import warnings\n",
    "import pyarrow.parquet as pq\n",
    "from sklearn.preprocessing import OneHotEncoder\n",
    "from sklearn.linear_model import LogisticRegression\n",
    "from sklearn.metrics import roc_auc_score\n",
    "from sklearn.ensemble import RandomForestClassifier\n",
    "from sklearn.model_selection import train_test_split\n",
    "import statistics\n",
    "from sklearn.pipeline import Pipeline \n",
    "from sklearn.pipeline import FeatureUnion\n",
    "import joblib\n",
    "warnings.filterwarnings(\"ignore\")"
   ]
  },
  {
   "cell_type": "code",
   "execution_count": 39,
   "id": "fb722f73-9c5f-4928-8914-c4fede92d88f",
   "metadata": {
    "tags": []
   },
   "outputs": [],
   "source": [
    "# фаилы для чтения"
   ]
  },
  {
   "cell_type": "code",
   "execution_count": 40,
   "id": "d8f58fb0-9b55-4476-a9f7-31690a73b1c5",
   "metadata": {
    "tags": []
   },
   "outputs": [],
   "source": [
    "name = ['omg/train_data_0.pq', 'omg/train_data_1.pq',  'omg/train_data_2.pq', 'omg/train_data_3.pq', 'omg/train_data_4.pq', 'omg/train_data_5.pq', 'omg/train_data_6.pq', 'omg/train_data_7.pq', 'omg/train_data_8.pq', 'omg/train_data_9.pq', 'omg/train_data_10.pq', 'omg/train_data_11.pq']"
   ]
  },
  {
   "cell_type": "code",
   "execution_count": 41,
   "id": "89093d63-cb69-4e87-8f0c-2335da8bff2b",
   "metadata": {
    "tags": []
   },
   "outputs": [],
   "source": [
    "# все способы агрегаций при групировки"
   ]
  },
  {
   "cell_type": "code",
   "execution_count": 42,
   "id": "0e0d986b-bfaa-43a0-a2bb-41ec700cfa98",
   "metadata": {
    "tags": []
   },
   "outputs": [],
   "source": [
    "agg_func_transform = {\n",
    "                      'pre_loans_max_overdue_sum': ['mean'], \n",
    "                      \n",
    "                    'pre_loans5': ['mean'], 'pre_loans530': ['mean'], 'pre_loans3060': ['mean'],\n",
    "                     'pre_loans6090': ['mean'], 'pre_loans90': ['mean'] ,\n",
    "                      \n",
    "\n",
    "                     'enc_paym_count': ['mean', 'sum'],\n",
    "\n",
    "                      'is_zero_loans5': ['mean'], 'is_zero_loans530': ['mean'], 'is_zero_loans3060': ['mean'],  'is_zero_loans6090': ['mean'], 'is_zero_loans90': ['mean'],\n",
    "                      \n",
    "                    'is_zero_util_0': ['mean', 'median', 'sum'], 'is_zero_util_1': ['mean', 'median', 'sum'],\n",
    "                    'is_zero_over2limit_0': ['mean', 'median'], 'is_zero_over2limit_1': ['mean', 'median'],\n",
    "                   'is_zero_maxover2limit_0': ['mean', 'median'], 'is_zero_maxover2limit_1': ['mean', 'median'],\n",
    "                   'enc_loans_account_holder_type_0': ['mean', 'median'], 'enc_loans_account_holder_type_1': ['mean', 'median'],\n",
    "                   'enc_loans_account_holder_type_2': ['mean', 'median'], 'enc_loans_account_holder_type_3': ['mean', 'median'],\n",
    "                   'enc_loans_account_holder_type_4': ['mean', 'median'], 'enc_loans_account_holder_type_5': ['mean', 'median'],\n",
    "                   'enc_loans_account_holder_type_6': ['mean', 'median'], 'enc_loans_credit_status_0': ['mean', 'median'],\n",
    "                    'enc_loans_credit_status_1': ['mean', 'median'], 'enc_loans_credit_status_2': ['mean', 'median'],\n",
    "                   'enc_loans_credit_status_3': ['mean', 'median'], 'enc_loans_credit_status_4': ['mean', 'median'],\n",
    "                   'enc_loans_credit_status_5': ['mean', 'median'], 'enc_loans_credit_status_6': ['mean', 'median'],\n",
    "    \n",
    "                   'enc_loans_account_cur_0': ['mean'], 'enc_loans_account_cur_1': ['mean'],\n",
    "                   'enc_loans_account_cur_2': ['mean'], 'enc_loans_account_cur_3': ['mean'],\n",
    "                   'enc_loans_credit_type_0': ['mean'], 'enc_loans_credit_type_1': ['mean'],\n",
    "                   'enc_loans_credit_type_2': ['mean'], 'enc_loans_credit_type_3': ['mean'],\n",
    "                   'enc_loans_credit_type_4': ['mean'], 'enc_loans_credit_type_5': ['mean'], \n",
    "    \n",
    "                    'pclose_flag_0': ['mean'],\n",
    "                   'pclose_flag_1': ['mean'], 'fclose_flag_0': ['mean'], 'fclose_flag_1': ['mean'],\n",
    "    \n",
    "    \n",
    "                       'pre_since_opened_0': ['mean', 'max', 'sum'], 'pre_since_opened_1': ['mean', 'max', 'sum'], 'pre_since_opened_2': ['mean', 'max', 'sum'],\n",
    "                       'pre_since_opened_3': ['mean', 'max', 'sum'], 'pre_since_opened_4': ['mean', 'max', 'sum'], 'pre_since_opened_5': ['mean', 'max', 'sum'],\n",
    "                       'pre_since_opened_6': ['mean', 'max', 'sum'], 'pre_since_opened_7': ['mean', 'max', 'sum'], 'pre_since_opened_8': ['mean', 'max', 'sum'],\n",
    "                       'pre_since_opened_9': ['mean', 'max', 'sum'], 'pre_since_opened_10': ['mean', 'max', 'sum'], 'pre_since_opened_11': ['mean', 'max', 'sum'],\n",
    "                       'pre_since_opened_12': ['mean', 'max', 'sum'], 'pre_since_opened_13': ['mean', 'max', 'sum'], 'pre_since_opened_14': ['mean', 'max', 'sum'],\n",
    "                       'pre_since_opened_15': ['mean', 'max', 'sum'], 'pre_since_opened_16': ['mean', 'max', 'sum'], 'pre_since_opened_17': ['mean', 'max', 'sum'],\n",
    "                       'pre_since_opened_18': ['mean', 'max', 'sum'], 'pre_since_opened_19': ['mean', 'max', 'sum'], 'pre_since_confirmed_0': ['mean', 'max', 'sum'],\n",
    "                       'pre_since_confirmed_1': ['mean', 'max', 'sum'], 'pre_since_confirmed_2': ['mean', 'max', 'sum'],\n",
    "                       'pre_since_confirmed_3': ['mean', 'max', 'sum'], 'pre_since_confirmed_4': ['mean', 'max', 'sum'],\n",
    "                       'pre_since_confirmed_5': ['mean', 'max', 'sum'], 'pre_since_confirmed_6': ['mean', 'max', 'sum'],\n",
    "                       'pre_since_confirmed_7': ['mean', 'max', 'sum'], 'pre_since_confirmed_8': ['mean', 'max', 'sum'],\n",
    "                       'pre_since_confirmed_9': ['mean', 'max', 'sum'], 'pre_since_confirmed_10': ['mean', 'max', 'sum'],\n",
    "                       'pre_since_confirmed_11': ['mean', 'max', 'sum'], 'pre_since_confirmed_12': ['mean', 'max', 'sum'],\n",
    "                       'pre_since_confirmed_13': ['mean', 'max', 'sum'], 'pre_since_confirmed_14': ['mean', 'max', 'sum'],\n",
    "                       'pre_since_confirmed_15': ['mean', 'max', 'sum'], 'pre_since_confirmed_16': ['mean', 'max', 'sum'],\n",
    "                       'pre_since_confirmed_17': ['mean', 'max', 'sum'],\n",
    "                      \n",
    "                       'pre_pterm_0': ['mean', 'max', 'sum', 'median'],\n",
    "                       'pre_pterm_1': ['mean', 'max', 'sum', 'median'], 'pre_pterm_2': ['mean', 'max', 'sum', 'median'], 'pre_pterm_3': ['mean', 'max', 'sum', 'median'], 'pre_pterm_4': ['mean', 'max', 'sum', 'median'],\n",
    "                       'pre_pterm_5': ['mean', 'max', 'sum', 'median'], 'pre_pterm_6': ['mean', 'max', 'sum', 'median'], 'pre_pterm_7': ['mean', 'max', 'sum', 'median'], 'pre_pterm_8': ['mean', 'max', 'sum', 'median'],\n",
    "                       'pre_pterm_9': ['mean', 'max', 'sum', 'median'], 'pre_pterm_10': ['mean', 'max', 'sum', 'median'], 'pre_pterm_11': ['mean', 'max', 'sum', 'median'], 'pre_pterm_12': ['mean', 'max', 'sum', 'median'],\n",
    "                       'pre_pterm_13': ['mean', 'max', 'sum', 'median'], 'pre_pterm_14': ['mean', 'max', 'sum', 'median'], 'pre_pterm_15': ['mean', 'max', 'sum', 'median'], 'pre_pterm_16': ['mean', 'max', 'sum', 'median'],\n",
    "                       'pre_pterm_17': ['mean', 'max', 'sum', 'median'], 'pre_fterm_0': ['mean', 'max', 'sum', 'median'], 'pre_fterm_1': ['mean', 'max', 'sum', 'median'], 'pre_fterm_2': ['mean', 'max', 'sum', 'median'],\n",
    "                       'pre_fterm_3': ['mean', 'max', 'sum', 'median'], 'pre_fterm_4': ['mean', 'max', 'sum', 'median'], 'pre_fterm_5': ['mean', 'max', 'sum', 'median'], 'pre_fterm_6': ['mean', 'max', 'sum', 'median'],\n",
    "                       'pre_fterm_7': ['mean', 'max', 'sum', 'median'], 'pre_fterm_8': ['mean', 'max', 'sum', 'median'], 'pre_fterm_9': ['mean', 'max', 'sum', 'median'], 'pre_fterm_10': ['mean', 'max', 'sum', 'median'],\n",
    "                       'pre_fterm_11': ['mean', 'max', 'sum', 'median'], 'pre_fterm_12': ['mean', 'max', 'sum', 'median'], 'pre_fterm_13': ['mean', 'max', 'sum', 'median'], 'pre_fterm_14': ['mean', 'max', 'sum', 'median'],\n",
    "                       'pre_fterm_15': ['mean', 'max', 'sum', 'median'], 'pre_fterm_16': ['mean', 'max', 'sum', 'median'],\n",
    "    \n",
    "    \n",
    "                       'pre_till_pclose_0': ['mean', 'sum', 'min'], 'pre_till_pclose_1': ['mean', 'sum', 'min'],\n",
    "                       'pre_till_pclose_2': ['mean', 'sum', 'min'], 'pre_till_pclose_3': ['mean', 'sum', 'min'], 'pre_till_pclose_4': ['mean', 'sum', 'min'],\n",
    "                       'pre_till_pclose_5': ['mean', 'sum', 'min'], 'pre_till_pclose_6': ['mean', 'sum', 'min'], 'pre_till_pclose_7': ['mean', 'sum', 'min'],\n",
    "                       'pre_till_pclose_8': ['mean', 'sum', 'min'], 'pre_till_pclose_9': ['mean', 'sum', 'min'], 'pre_till_pclose_10': ['mean', 'sum', 'min'],\n",
    "                       'pre_till_pclose_11': ['mean', 'sum', 'min'], 'pre_till_pclose_12': ['mean', 'sum', 'min'], 'pre_till_pclose_13': ['mean', 'sum', 'min'],\n",
    "                       'pre_till_pclose_14': ['mean', 'sum', 'min'], 'pre_till_pclose_15': ['mean', 'sum', 'min'], 'pre_till_pclose_16': ['mean', 'sum', 'min'],\n",
    "                       'pre_till_fclose_0': ['mean', 'sum', 'min'], 'pre_till_fclose_1': ['mean', 'sum', 'min'], 'pre_till_fclose_2': ['mean', 'sum', 'min'],\n",
    "                       'pre_till_fclose_3': ['mean', 'sum', 'min'], 'pre_till_fclose_4': ['mean', 'sum', 'min'], 'pre_till_fclose_5': ['mean', 'sum', 'min'],\n",
    "                       'pre_till_fclose_6': ['mean', 'sum', 'min'], 'pre_till_fclose_7': ['mean', 'sum', 'min'], 'pre_till_fclose_8': ['mean', 'sum', 'min'],\n",
    "                       'pre_till_fclose_9': ['mean', 'sum', 'min'], 'pre_till_fclose_10': ['mean', 'sum', 'min'], 'pre_till_fclose_11': ['mean', 'sum', 'min'],\n",
    "                       'pre_till_fclose_12': ['mean', 'sum', 'min'], 'pre_till_fclose_13': ['mean', 'sum', 'min'], 'pre_till_fclose_14': ['mean', 'sum', 'min'],\n",
    "                       'pre_till_fclose_15': ['mean', 'sum', 'min'],\n",
    "    \n",
    "                        'pre_loans_next_pay_summ_0': ['mean', 'sum'],\n",
    "                        'pre_loans_next_pay_summ_1': ['mean', 'sum'], 'pre_loans_next_pay_summ_2': ['mean', 'sum'],\n",
    "                        'pre_loans_next_pay_summ_3': ['mean', 'sum'], 'pre_loans_next_pay_summ_4': ['mean', 'sum'],\n",
    "                        'pre_loans_next_pay_summ_5': ['mean', 'sum'], 'pre_loans_next_pay_summ_6': ['mean', 'sum'],\n",
    "    \n",
    "    \n",
    "                        'pre_loans_outstanding_1': ['mean', 'sum', 'min', 'first', 'last'], 'pre_loans_outstanding_2': ['mean', 'sum', 'min', 'first', 'last'],\n",
    "                        'pre_loans_outstanding_3': ['mean', 'sum', 'min', 'first', 'last'], 'pre_loans_outstanding_4': ['mean', 'sum', 'min', 'first', 'last'],\n",
    "                        'pre_loans_outstanding_5': ['mean', 'sum', 'min', 'first', 'last'],\n",
    "    \n",
    "    \n",
    "                        'pre_maxover2limit_0': ['mean'], 'pre_maxover2limit_1': ['mean'], 'pre_maxover2limit_2': ['mean'],\n",
    "                        'pre_maxover2limit_3': ['mean'], 'pre_maxover2limit_4': ['mean'], 'pre_maxover2limit_5': ['mean'],\n",
    "                        'pre_maxover2limit_6': ['mean'], 'pre_maxover2limit_7': ['mean'], 'pre_maxover2limit_8': ['mean'],\n",
    "                        'pre_maxover2limit_9': ['mean'], 'pre_maxover2limit_10': ['mean'], 'pre_maxover2limit_11': ['mean'],\n",
    "                        'pre_maxover2limit_12': ['mean'], 'pre_maxover2limit_13': ['mean'], 'pre_maxover2limit_14': ['mean'],\n",
    "                        'pre_maxover2limit_15': ['mean'], 'pre_maxover2limit_16': ['mean'], 'pre_maxover2limit_17': ['mean'],\n",
    "                        'pre_maxover2limit_18': ['mean'], 'pre_maxover2limit_19': ['mean'],\n",
    "    \n",
    "    \n",
    "    \n",
    "                        'pre_util_0': ['mean'], 'pre_util_1': ['mean'], 'pre_util_2': ['mean'], 'pre_util_3': ['mean'], 'pre_util_4': ['mean'],\n",
    "                        'pre_util_5': ['mean'], 'pre_util_6': ['mean'], 'pre_util_7': ['mean'], 'pre_util_8': ['mean'], 'pre_util_9': ['mean'],\n",
    "                        'pre_util_10': ['mean'], 'pre_util_11': ['mean'], 'pre_util_12': ['mean'], 'pre_util_13': ['mean'],\n",
    "                        'pre_util_14': ['mean'], 'pre_util_15': ['mean'], 'pre_util_16': ['mean'], 'pre_util_17': ['mean'],\n",
    "                        'pre_util_18': ['mean'], 'pre_util_19': ['mean'],\n",
    "    \n",
    "    \n",
    "                        'pre_loans_credit_limit_0': ['mean', 'sum'], 'pre_loans_credit_limit_1': ['mean', 'sum'],\n",
    "                        'pre_loans_credit_limit_2': ['mean', 'sum'], 'pre_loans_credit_limit_3': ['mean', 'sum'],\n",
    "                        'pre_loans_credit_limit_4': ['mean', 'sum'], 'pre_loans_credit_limit_5': ['mean', 'sum'],\n",
    "                        'pre_loans_credit_limit_6': ['mean', 'sum'], 'pre_loans_credit_limit_7': ['mean', 'sum'],\n",
    "                        'pre_loans_credit_limit_8': ['mean', 'sum'], 'pre_loans_credit_limit_9': ['mean', 'sum'],\n",
    "                        'pre_loans_credit_limit_10': ['mean', 'sum'], 'pre_loans_credit_limit_11': ['mean', 'sum'],\n",
    "                        'pre_loans_credit_limit_12': ['mean', 'sum'], 'pre_loans_credit_limit_13': ['mean', 'sum'],\n",
    "                        'pre_loans_credit_limit_14': ['mean', 'sum'], 'pre_loans_credit_limit_15': ['mean', 'sum'],\n",
    "                        'pre_loans_credit_limit_16': ['mean', 'sum'], 'pre_loans_credit_limit_17': ['mean', 'sum'],\n",
    "                        'pre_loans_credit_limit_18': ['mean', 'sum'], 'pre_loans_credit_limit_19': ['mean', 'sum'],\n",
    "    \n",
    "    \n",
    "                        'pre_loans_credit_cost_rate_0': ['median'],\n",
    "                        'pre_loans_credit_cost_rate_1': ['median'], 'pre_loans_credit_cost_rate_2': ['median'],\n",
    "                        'pre_loans_credit_cost_rate_3': ['median'], 'pre_loans_credit_cost_rate_4': ['median'],\n",
    "                        'pre_loans_credit_cost_rate_5': ['median'], 'pre_loans_credit_cost_rate_6': ['median'],\n",
    "                        'pre_loans_credit_cost_rate_7': ['median'], 'pre_loans_credit_cost_rate_8': ['median'],\n",
    "                        'pre_loans_credit_cost_rate_9': ['median'], 'pre_loans_credit_cost_rate_10': ['median'],\n",
    "                        'pre_loans_credit_cost_rate_11': ['median'], 'pre_loans_credit_cost_rate_12': ['median'],\n",
    "                        'pre_loans_credit_cost_rate_13': ['median'],\n",
    "    \n",
    "    \n",
    "    \n",
    "                        'pre_over2limit_0': ['mean', 'median', 'sum', 'max', 'first', 'last'], 'pre_over2limit_1': ['mean', 'median', 'sum', 'max', 'first', 'last'],\n",
    "                        'pre_over2limit_2': ['mean', 'median', 'sum', 'max', 'first', 'last'], 'pre_over2limit_3': ['mean', 'median', 'sum', 'max', 'first', 'last'], 'pre_over2limit_4': ['mean', 'median', 'sum', 'max', 'first', 'last'],\n",
    "                        'pre_over2limit_5': ['mean', 'median', 'sum', 'max', 'first', 'last'], 'pre_over2limit_6': ['mean', 'median', 'sum', 'max', 'first', 'last'], 'pre_over2limit_7': ['mean', 'median', 'sum', 'max', 'first', 'last'],\n",
    "                        'pre_over2limit_8': ['mean', 'median', 'sum', 'max', 'first', 'last'], 'pre_over2limit_9': ['mean', 'median', 'sum', 'max', 'first', 'last'], 'pre_over2limit_10': ['mean', 'median', 'sum', 'max', 'first', 'last'],\n",
    "                        'pre_over2limit_11': ['mean', 'median', 'sum', 'max', 'first', 'last'], 'pre_over2limit_12': ['mean', 'median', 'sum', 'max', 'first', 'last'], 'pre_over2limit_13': ['mean', 'median', 'sum', 'max', 'first', 'last'],\n",
    "                        'pre_over2limit_14': ['mean', 'median', 'sum', 'max', 'first', 'last'], 'pre_over2limit_15': ['mean', 'median', 'sum', 'max', 'first', 'last'], 'pre_over2limit_16': ['mean', 'median', 'sum', 'max', 'first', 'last'],\n",
    "                        'pre_over2limit_17': ['mean', 'median', 'sum', 'max', 'first', 'last'], 'pre_over2limit_18': ['mean', 'median', 'sum', 'max', 'first', 'last'], 'pre_over2limit_19': ['mean', 'median', 'sum', 'max', 'first', 'last'],\n",
    "    \n",
    "                    }"
   ]
  },
  {
   "cell_type": "code",
   "execution_count": 43,
   "id": "740325a0-352f-46a5-870d-fdf487ed5e03",
   "metadata": {
    "tags": []
   },
   "outputs": [],
   "source": [
    "# "
   ]
  },
  {
   "cell_type": "code",
   "execution_count": 44,
   "id": "2837807f-41c8-4e65-b3a9-1710c22c92ce",
   "metadata": {
    "tags": []
   },
   "outputs": [],
   "source": [
    "col_to_ohe = ['is_zero_util',\n",
    "              'pre_since_opened', 'pre_since_confirmed',\n",
    "              'is_zero_over2limit', 'is_zero_maxover2limit', 'enc_loans_account_holder_type', 'enc_loans_credit_status', 'enc_loans_account_cur', \n",
    "              'enc_loans_credit_type', 'pclose_flag', 'fclose_flag',\n",
    "              'pre_pterm', 'pre_fterm',\n",
    "              'pre_till_pclose', 'pre_till_fclose',\n",
    "              'pre_loans_next_pay_summ', \n",
    "              'pre_loans_outstanding',\n",
    "              'pre_maxover2limit',\n",
    "              'pre_util',\n",
    "              'pre_loans_credit_limit',\n",
    "              'pre_loans_credit_cost_rate',\n",
    "              'pre_over2limit',\n",
    "             ]"
   ]
  },
  {
   "cell_type": "code",
   "execution_count": null,
   "id": "99ae7582-b2f3-494b-ae00-7e8bbfc79d43",
   "metadata": {},
   "outputs": [],
   "source": []
  },
  {
   "cell_type": "code",
   "execution_count": 45,
   "id": "48d508cc-d466-4d6d-b337-4d36490bbd05",
   "metadata": {
    "tags": []
   },
   "outputs": [],
   "source": [
    "# обрабодка и сохранение файлов"
   ]
  },
  {
   "cell_type": "code",
   "execution_count": null,
   "id": "46ba2302-9089-4050-8a50-4049978ebb64",
   "metadata": {},
   "outputs": [],
   "source": []
  },
  {
   "cell_type": "code",
   "execution_count": 46,
   "id": "55b6471d-171e-4d73-b65f-bac646fad532",
   "metadata": {
    "tags": []
   },
   "outputs": [
    {
     "name": "stdout",
     "output_type": "stream",
     "text": [
      "фаил0 сохранен\n",
      "фаил2 сохранен\n",
      "фаил4 сохранен\n",
      "фаил6 сохранен\n",
      "фаил8 сохранен\n",
      "фаил10 сохранен\n"
     ]
    }
   ],
   "source": [
    "for i in range(0, len(name), 2):\n",
    "    # чтение файлов\n",
    "    dataset = pq.ParquetDataset([name[i], name[i+1]], use_legacy_dataset=False)\n",
    "    \n",
    "    df = dataset.read(use_threads=True).to_pandas()\n",
    "\n",
    "    #  дроп 2 колонок \n",
    "    \n",
    "    df = df.drop(['rn', 'pre_loans_total_overdue'], axis=1)\n",
    "\n",
    "    # обьединение в один столбец\n",
    "\n",
    "    df['enc_paym_count'] = df['enc_paym_0'] + df['enc_paym_1'] + df['enc_paym_2'] + df['enc_paym_3'] + df['enc_paym_4'] + df['enc_paym_5'] + df['enc_paym_6'] + df['enc_paym_7'] + df['enc_paym_8'] + df['enc_paym_9'] + df['enc_paym_10'] + df['enc_paym_11'] + df['enc_paym_12'] + df['enc_paym_13'] + df['enc_paym_14'] + df['enc_paym_15'] + df['enc_paym_16'] + df['enc_paym_17'] + df['enc_paym_18'] + df['enc_paym_19'] + df['enc_paym_20'] + df['enc_paym_21'] + df['enc_paym_22'] + df['enc_paym_23'] + df['enc_paym_24']\n",
    "\n",
    "    df = df.drop(['enc_paym_0', 'enc_paym_1', 'enc_paym_2',  'enc_paym_3', 'enc_paym_4', 'enc_paym_5', 'enc_paym_6', 'enc_paym_7', 'enc_paym_8', 'enc_paym_9', 'enc_paym_10',  'enc_paym_11', 'enc_paym_12', 'enc_paym_13', 'enc_paym_14','enc_paym_15', 'enc_paym_16', 'enc_paym_17', 'enc_paym_18', 'enc_paym_19', 'enc_paym_20', 'enc_paym_21', 'enc_paym_22', 'enc_paym_23', 'enc_paym_24'], axis=1)\n",
    "    \n",
    "    #кодировка\n",
    "    \n",
    "    ohe = OneHotEncoder(sparse_output=False)\n",
    "    \n",
    "    ohe.fit(df[col_to_ohe])\n",
    "    \n",
    "    ohe_category = ohe.transform(df[col_to_ohe])\n",
    "    \n",
    "    df = df.drop(col_to_ohe, axis=1)\n",
    "    \n",
    "    df[ohe.get_feature_names_out()] =  ohe_category\n",
    "    \n",
    "    # групировка\n",
    "    \n",
    "    df_tr = df.groupby(\"id\").agg(agg_func_transform).round(2)\n",
    "    \n",
    "    # удаление дубликатов\n",
    "    \n",
    "    target = pd.read_csv('train_target.csv')\n",
    "    \n",
    "    df_tr = df_tr.merge(target, left_on='id', right_on='id', how='inner')\n",
    "    df_tr = df_tr.drop(['id'], axis=1)\n",
    "    \n",
    "    df_tr_0 = df_tr[df_tr.flag == 0]\n",
    "    \n",
    "    df_tr_0 = df_tr_0.drop_duplicates ()\n",
    "    \n",
    "    df_tr_1 = df_tr[df_tr.flag == 1]\n",
    "    \n",
    "    df_tr = pd.concat([df_tr_0, df_tr_1])\n",
    "    \n",
    "    # выбросы\n",
    "    \n",
    "    col = df_tr.columns\n",
    "    \n",
    "    def calculate_boundaries(series):\n",
    "        q25 = series.quantile(0.25)\n",
    "        q75 = series.quantile(0.75)\n",
    "        iqr = q75 - q25\n",
    "\n",
    "        boundaries = (q25 - 1.5 * iqr, q75 + 1.5 * iqr)\n",
    "        return boundaries\n",
    "    \n",
    "    for d in [0, 5, 50, 36, 39, 41, 44, 102, 129, 151]:\n",
    "        boundaries_max = calculate_boundaries(df_tr[col[d]])\n",
    "        is_outlier = (df_tr[col[d]] > int(boundaries_max[1]))\n",
    "        df_tr.loc[is_outlier, [col[d]]] = int(boundaries_max[1])\n",
    "        \n",
    "        \n",
    "    for s in [2, 3]:\n",
    "        boundaries_max = calculate_boundaries(df_tr[col[s]])\n",
    "        is_outlier = (df_tr[col[s]] < int(boundaries_max[0]))\n",
    "        df_tr.loc[is_outlier, [col[s]]] = int(boundaries_max[0])\n",
    "        \n",
    "    df_tr.to_csv (f'omg\\df_tr\\df_tr{i}.csv', index= False )\n",
    "    print(f'фаил{i} сохранен')"
   ]
  },
  {
   "cell_type": "code",
   "execution_count": null,
   "id": "8eaeccae-8af1-487a-8a9f-0720c2641229",
   "metadata": {},
   "outputs": [],
   "source": []
  },
  {
   "cell_type": "code",
   "execution_count": 2,
   "id": "26a8fdb3-3653-4860-9c28-3bb6f29d6c69",
   "metadata": {
    "tags": []
   },
   "outputs": [],
   "source": [
    "# чтение файлов\n",
    "name_df_tr =['omg\\df_tr\\df_tr0.csv', 'omg\\df_tr\\df_tr2.csv', 'omg\\df_tr\\df_tr4.csv', 'omg\\df_tr\\df_tr6.csv', 'omg\\df_tr\\df_tr8.csv', 'omg\\df_tr\\df_tr10.csv']"
   ]
  },
  {
   "cell_type": "code",
   "execution_count": 3,
   "id": "efb012fe-269d-4cb6-90a6-db05083ba70f",
   "metadata": {
    "tags": []
   },
   "outputs": [
    {
     "name": "stdout",
     "output_type": "stream",
     "text": [
      "фаил0 прочтен\n",
      "фаил1 прочтен\n",
      "фаил2 прочтен\n",
      "фаил3 прочтен\n",
      "фаил4 прочтен\n",
      "фаил5 прочтен\n"
     ]
    }
   ],
   "source": [
    "df_tr = pd.DataFrame()\n",
    "for q in range(len(name_df_tr)):\n",
    "    df = pd.read_csv(name_df_tr[q])\n",
    "    df_tr = pd.concat([df_tr, df])\n",
    "    print(f'фаил{q} прочтен')\n"
   ]
  },
  {
   "cell_type": "code",
   "execution_count": null,
   "id": "8fe9ea88-6f33-4dbe-9dd5-634f34fa6c3e",
   "metadata": {},
   "outputs": [],
   "source": []
  },
  {
   "cell_type": "code",
   "execution_count": 4,
   "id": "cd5a473f-18cf-4db8-b37c-fbad7f008662",
   "metadata": {
    "tags": []
   },
   "outputs": [],
   "source": [
    "# обучение модели"
   ]
  },
  {
   "cell_type": "code",
   "execution_count": 5,
   "id": "4ec4b5f9-2647-4386-8149-b28340bd29f2",
   "metadata": {
    "tags": []
   },
   "outputs": [],
   "source": [
    "x = df_tr.drop(['flag'], axis=1)\n",
    "y = df_tr.flag"
   ]
  },
  {
   "cell_type": "code",
   "execution_count": null,
   "id": "cda7201c-4739-4a71-b161-cc5383601302",
   "metadata": {},
   "outputs": [],
   "source": []
  },
  {
   "cell_type": "code",
   "execution_count": 6,
   "id": "aef54685-c03a-40db-80ed-4608526ae066",
   "metadata": {
    "tags": []
   },
   "outputs": [],
   "source": [
    "X_train, X_test, y_train, y_test = train_test_split(x, y, test_size=0.2, random_state=42, shuffle=True)"
   ]
  },
  {
   "cell_type": "code",
   "execution_count": 7,
   "id": "7be26de7-5417-403c-bdbc-8275194cae16",
   "metadata": {
    "tags": []
   },
   "outputs": [],
   "source": [
    "class_weights = {\n",
    "    0: 1,\n",
    "    1: (y_train[y_train == 0].shape[0] / y_train[y_train == 1].shape[0]) + 0.001\n",
    "}"
   ]
  },
  {
   "cell_type": "code",
   "execution_count": 8,
   "id": "1dbfe84d-e398-4ff3-85be-500c08872627",
   "metadata": {
    "tags": []
   },
   "outputs": [],
   "source": [
    "lr = LogisticRegression(random_state=42, class_weight=class_weights, solver='newton-cholesky', C=0.53)"
   ]
  },
  {
   "cell_type": "code",
   "execution_count": 9,
   "id": "54ba4db5-2e53-4d0f-a511-9ab7e9816cfa",
   "metadata": {
    "tags": []
   },
   "outputs": [
    {
     "data": {
      "text/html": [
       "<style>#sk-container-id-1 {color: black;}#sk-container-id-1 pre{padding: 0;}#sk-container-id-1 div.sk-toggleable {background-color: white;}#sk-container-id-1 label.sk-toggleable__label {cursor: pointer;display: block;width: 100%;margin-bottom: 0;padding: 0.3em;box-sizing: border-box;text-align: center;}#sk-container-id-1 label.sk-toggleable__label-arrow:before {content: \"▸\";float: left;margin-right: 0.25em;color: #696969;}#sk-container-id-1 label.sk-toggleable__label-arrow:hover:before {color: black;}#sk-container-id-1 div.sk-estimator:hover label.sk-toggleable__label-arrow:before {color: black;}#sk-container-id-1 div.sk-toggleable__content {max-height: 0;max-width: 0;overflow: hidden;text-align: left;background-color: #f0f8ff;}#sk-container-id-1 div.sk-toggleable__content pre {margin: 0.2em;color: black;border-radius: 0.25em;background-color: #f0f8ff;}#sk-container-id-1 input.sk-toggleable__control:checked~div.sk-toggleable__content {max-height: 200px;max-width: 100%;overflow: auto;}#sk-container-id-1 input.sk-toggleable__control:checked~label.sk-toggleable__label-arrow:before {content: \"▾\";}#sk-container-id-1 div.sk-estimator input.sk-toggleable__control:checked~label.sk-toggleable__label {background-color: #d4ebff;}#sk-container-id-1 div.sk-label input.sk-toggleable__control:checked~label.sk-toggleable__label {background-color: #d4ebff;}#sk-container-id-1 input.sk-hidden--visually {border: 0;clip: rect(1px 1px 1px 1px);clip: rect(1px, 1px, 1px, 1px);height: 1px;margin: -1px;overflow: hidden;padding: 0;position: absolute;width: 1px;}#sk-container-id-1 div.sk-estimator {font-family: monospace;background-color: #f0f8ff;border: 1px dotted black;border-radius: 0.25em;box-sizing: border-box;margin-bottom: 0.5em;}#sk-container-id-1 div.sk-estimator:hover {background-color: #d4ebff;}#sk-container-id-1 div.sk-parallel-item::after {content: \"\";width: 100%;border-bottom: 1px solid gray;flex-grow: 1;}#sk-container-id-1 div.sk-label:hover label.sk-toggleable__label {background-color: #d4ebff;}#sk-container-id-1 div.sk-serial::before {content: \"\";position: absolute;border-left: 1px solid gray;box-sizing: border-box;top: 0;bottom: 0;left: 50%;z-index: 0;}#sk-container-id-1 div.sk-serial {display: flex;flex-direction: column;align-items: center;background-color: white;padding-right: 0.2em;padding-left: 0.2em;position: relative;}#sk-container-id-1 div.sk-item {position: relative;z-index: 1;}#sk-container-id-1 div.sk-parallel {display: flex;align-items: stretch;justify-content: center;background-color: white;position: relative;}#sk-container-id-1 div.sk-item::before, #sk-container-id-1 div.sk-parallel-item::before {content: \"\";position: absolute;border-left: 1px solid gray;box-sizing: border-box;top: 0;bottom: 0;left: 50%;z-index: -1;}#sk-container-id-1 div.sk-parallel-item {display: flex;flex-direction: column;z-index: 1;position: relative;background-color: white;}#sk-container-id-1 div.sk-parallel-item:first-child::after {align-self: flex-end;width: 50%;}#sk-container-id-1 div.sk-parallel-item:last-child::after {align-self: flex-start;width: 50%;}#sk-container-id-1 div.sk-parallel-item:only-child::after {width: 0;}#sk-container-id-1 div.sk-dashed-wrapped {border: 1px dashed gray;margin: 0 0.4em 0.5em 0.4em;box-sizing: border-box;padding-bottom: 0.4em;background-color: white;}#sk-container-id-1 div.sk-label label {font-family: monospace;font-weight: bold;display: inline-block;line-height: 1.2em;}#sk-container-id-1 div.sk-label-container {text-align: center;}#sk-container-id-1 div.sk-container {/* jupyter's `normalize.less` sets `[hidden] { display: none; }` but bootstrap.min.css set `[hidden] { display: none !important; }` so we also need the `!important` here to be able to override the default hidden behavior on the sphinx rendered scikit-learn.org. See: https://github.com/scikit-learn/scikit-learn/issues/21755 */display: inline-block !important;position: relative;}#sk-container-id-1 div.sk-text-repr-fallback {display: none;}</style><div id=\"sk-container-id-1\" class=\"sk-top-container\"><div class=\"sk-text-repr-fallback\"><pre>LogisticRegression(C=0.53, class_weight={0: 1, 1: 26.995203714785223},\n",
       "                   random_state=42, solver=&#x27;newton-cholesky&#x27;)</pre><b>In a Jupyter environment, please rerun this cell to show the HTML representation or trust the notebook. <br />On GitHub, the HTML representation is unable to render, please try loading this page with nbviewer.org.</b></div><div class=\"sk-container\" hidden><div class=\"sk-item\"><div class=\"sk-estimator sk-toggleable\"><input class=\"sk-toggleable__control sk-hidden--visually\" id=\"sk-estimator-id-1\" type=\"checkbox\" checked><label for=\"sk-estimator-id-1\" class=\"sk-toggleable__label sk-toggleable__label-arrow\">LogisticRegression</label><div class=\"sk-toggleable__content\"><pre>LogisticRegression(C=0.53, class_weight={0: 1, 1: 26.995203714785223},\n",
       "                   random_state=42, solver=&#x27;newton-cholesky&#x27;)</pre></div></div></div></div></div>"
      ],
      "text/plain": [
       "LogisticRegression(C=0.53, class_weight={0: 1, 1: 26.995203714785223},\n",
       "                   random_state=42, solver='newton-cholesky')"
      ]
     },
     "execution_count": 9,
     "metadata": {},
     "output_type": "execute_result"
    }
   ],
   "source": [
    "lr.fit(X_train, y_train)"
   ]
  },
  {
   "cell_type": "code",
   "execution_count": 10,
   "id": "835d8df0-d670-4a0b-a217-288d1637ecd4",
   "metadata": {
    "tags": []
   },
   "outputs": [],
   "source": [
    "predict = lr.predict(X_test)"
   ]
  },
  {
   "cell_type": "code",
   "execution_count": 11,
   "id": "829b39f1-4503-4132-a376-19131924adbd",
   "metadata": {
    "tags": []
   },
   "outputs": [
    {
     "data": {
      "text/plain": [
       "0.6844741248494621"
      ]
     },
     "execution_count": 11,
     "metadata": {},
     "output_type": "execute_result"
    }
   ],
   "source": [
    "roc_auc_score(y_test, predict)"
   ]
  },
  {
   "cell_type": "code",
   "execution_count": null,
   "id": "69ea4977-f0dc-47a5-bf39-e44ea53942a3",
   "metadata": {},
   "outputs": [],
   "source": []
  },
  {
   "cell_type": "code",
   "execution_count": null,
   "id": "9dfecc92-c6c7-48b1-a3a4-f4c37c1eefa1",
   "metadata": {},
   "outputs": [],
   "source": []
  },
  {
   "cell_type": "code",
   "execution_count": 12,
   "id": "a72e10bd-b3a1-4588-af40-42d25b1ed45a",
   "metadata": {
    "tags": []
   },
   "outputs": [],
   "source": [
    "# кросс валидация"
   ]
  },
  {
   "cell_type": "code",
   "execution_count": 13,
   "id": "7cb53e98-3fca-41df-9e74-e62096c12108",
   "metadata": {
    "tags": []
   },
   "outputs": [
    {
     "name": "stdout",
     "output_type": "stream",
     "text": [
      "0.7538836458540086\n",
      "0.7455769124721287\n",
      "0.7491593830930944\n",
      "0.7480631825997262\n",
      "0.7499241848526106\n",
      "0.7480203784665777\n"
     ]
    }
   ],
   "source": [
    "from sklearn.model_selection import StratifiedKFold\n",
    "\n",
    "kf = StratifiedKFold(n_splits=6, shuffle=True, random_state=42)\n",
    "\n",
    "metrics = []\n",
    "\n",
    "\n",
    "for train_index, test_index in kf.split(x, y):\n",
    "    X_train, y_train = x.values[train_index], y.values[train_index]\n",
    "    X_test, y_test = x.values[test_index], y.values[test_index]\n",
    "    \n",
    "    lr = LogisticRegression(random_state=42, class_weight=class_weights, solver='newton-cholesky', C=0.53)\n",
    "\n",
    "    lr.fit(X_train, y_train)\n",
    "    score = roc_auc_score(y_test, lr.predict_proba(X_test)[:, 1])\n",
    "    \n",
    "    print(score)\n",
    "    \n",
    "    metrics.append(score)"
   ]
  },
  {
   "cell_type": "code",
   "execution_count": 14,
   "id": "e0998202-cc41-4e06-b9b8-33779d79f206",
   "metadata": {
    "tags": []
   },
   "outputs": [
    {
     "data": {
      "text/plain": [
       "0.75"
      ]
     },
     "execution_count": 14,
     "metadata": {},
     "output_type": "execute_result"
    }
   ],
   "source": [
    "round(sum(metrics) / len(metrics), 2)"
   ]
  },
  {
   "cell_type": "code",
   "execution_count": 17,
   "id": "c41417b4-5faf-4166-b5a3-4041d0b5392d",
   "metadata": {},
   "outputs": [
    {
     "data": {
      "text/plain": [
       "0.7491046145563577"
      ]
     },
     "execution_count": 17,
     "metadata": {},
     "output_type": "execute_result"
    }
   ],
   "source": [
    "sum(metrics) / len(metrics)"
   ]
  },
  {
   "cell_type": "code",
   "execution_count": 15,
   "id": "5d31e445-4dd5-48ad-8c0f-16d18e859a27",
   "metadata": {
    "tags": []
   },
   "outputs": [],
   "source": [
    "lr = LogisticRegression(random_state=42, class_weight=class_weights, solver='newton-cholesky', C=0.53).fit(x, y)"
   ]
  },
  {
   "cell_type": "code",
   "execution_count": 16,
   "id": "dd3b7bd4-9ffb-4c87-a11a-7719db780181",
   "metadata": {
    "tags": []
   },
   "outputs": [
    {
     "data": {
      "text/plain": [
       "['model_for_pipline.pkl']"
      ]
     },
     "execution_count": 16,
     "metadata": {},
     "output_type": "execute_result"
    }
   ],
   "source": [
    "joblib.dump(lr, \"model_for_pipline.pkl\")"
   ]
  },
  {
   "cell_type": "code",
   "execution_count": null,
   "id": "48e93a6a-100f-4aaa-b744-42096ae76154",
   "metadata": {},
   "outputs": [],
   "source": []
  },
  {
   "cell_type": "code",
   "execution_count": null,
   "id": "5f1b4d11-ab2a-4086-ae0c-6abb97f76a00",
   "metadata": {},
   "outputs": [],
   "source": []
  },
  {
   "cell_type": "code",
   "execution_count": null,
   "id": "6d0d09ac-fa4d-4126-852a-9353d67c659c",
   "metadata": {},
   "outputs": [],
   "source": []
  },
  {
   "cell_type": "code",
   "execution_count": null,
   "id": "c70feae4-975e-4ac1-8b8e-67df44876c9c",
   "metadata": {},
   "outputs": [],
   "source": []
  }
 ],
 "metadata": {
  "kernelspec": {
   "display_name": "Python 3 (ipykernel)",
   "language": "python",
   "name": "python3"
  },
  "language_info": {
   "codemirror_mode": {
    "name": "ipython",
    "version": 3
   },
   "file_extension": ".py",
   "mimetype": "text/x-python",
   "name": "python",
   "nbconvert_exporter": "python",
   "pygments_lexer": "ipython3",
   "version": "3.11.5"
  }
 },
 "nbformat": 4,
 "nbformat_minor": 5
}
